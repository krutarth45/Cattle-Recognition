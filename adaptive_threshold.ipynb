{
  "nbformat": 4,
  "nbformat_minor": 0,
  "metadata": {
    "kernelspec": {
      "display_name": "Python 3",
      "language": "python",
      "name": "python3"
    },
    "language_info": {
      "codemirror_mode": {
        "name": "ipython",
        "version": 3
      },
      "file_extension": ".py",
      "mimetype": "text/x-python",
      "name": "python",
      "nbconvert_exporter": "python",
      "pygments_lexer": "ipython3",
      "version": "3.7.3"
    },
    "colab": {
      "name": "adaptive threshold.ipynb",
      "provenance": [],
      "toc_visible": true
    },
    "accelerator": "GPU"
  },
  "cells": [
    {
      "cell_type": "markdown",
      "metadata": {
        "id": "aq6sqLVWLJhP",
        "colab_type": "text"
      },
      "source": [
        "## Importing Neccessary Libraries\n",
        "\n"
      ]
    },
    {
      "cell_type": "code",
      "metadata": {
        "id": "4vX1zHswLJhQ",
        "colab_type": "code",
        "colab": {}
      },
      "source": [
        "import numpy as np\n",
        "import pandas as pd\n",
        "import matplotlib.pyplot as plt\n",
        "import tensorflow as tf\n",
        "from tensorflow.keras import Sequential,Model\n",
        "from tensorflow.keras.layers import Conv2D,MaxPool2D,Dense,Flatten,Input,concatenate\n",
        "from tensorflow.keras.losses import CosineSimilarity\n",
        "from tqdm import tqdm\n",
        "from tensorflow.keras.preprocessing import image\n",
        "import random"
      ],
      "execution_count": null,
      "outputs": []
    },
    {
      "cell_type": "code",
      "metadata": {
        "id": "mOw4qyZXUPiX",
        "colab_type": "code",
        "colab": {}
      },
      "source": [
        "df = pd.read_csv('/content/sjvcsv.csv')"
      ],
      "execution_count": null,
      "outputs": []
    },
    {
      "cell_type": "code",
      "metadata": {
        "id": "QNkpmLcw4VAX",
        "colab_type": "code",
        "colab": {
          "base_uri": "https://localhost:8080/",
          "height": 34
        },
        "outputId": "ebf92f7f-fbf9-4227-9242-ae6392841944"
      },
      "source": [
        "from google.colab import drive\n",
        "drive.mount('/content/drive')"
      ],
      "execution_count": null,
      "outputs": [
        {
          "output_type": "stream",
          "text": [
            "Mounted at /content/drive\n"
          ],
          "name": "stdout"
        }
      ]
    },
    {
      "cell_type": "markdown",
      "metadata": {
        "id": "AbUXuaBhuyUv",
        "colab_type": "text"
      },
      "source": [
        "## Extracting Images and Converting them into Array"
      ]
    },
    {
      "cell_type": "code",
      "metadata": {
        "id": "_ZRY77gsUXsh",
        "colab_type": "code",
        "colab": {
          "base_uri": "https://localhost:8080/",
          "height": 34
        },
        "outputId": "825b73b4-50a5-48c9-ac39-4c08d552ba19"
      },
      "source": [
        "width = 28\n",
        "height = 28\n",
        "X = []\n",
        "for i in tqdm(range(df.shape[0])):\n",
        "  path = '/content/drive/My Drive/tp1/'+df['ID'][i]+'.jpg'\n",
        "  img = image.load_img(path,target_size=(width,height,3))\n",
        "  img = image.img_to_array(img)\n",
        "  img = img/255.0\n",
        "  X.append(img)\n",
        "\n",
        "X = np.array(X)"
      ],
      "execution_count": null,
      "outputs": [
        {
          "output_type": "stream",
          "text": [
            "100%|██████████| 463/463 [03:38<00:00,  2.11it/s]\n"
          ],
          "name": "stderr"
        }
      ]
    },
    {
      "cell_type": "code",
      "metadata": {
        "id": "FDBN9g5AUX2J",
        "colab_type": "code",
        "colab": {
          "base_uri": "https://localhost:8080/",
          "height": 34
        },
        "outputId": "0b754229-ec41-47fe-8c60-24b062bce379"
      },
      "source": [
        "X.shape"
      ],
      "execution_count": null,
      "outputs": [
        {
          "output_type": "execute_result",
          "data": {
            "text/plain": [
              "(463, 28, 28, 3)"
            ]
          },
          "metadata": {
            "tags": []
          },
          "execution_count": 6
        }
      ]
    },
    {
      "cell_type": "code",
      "metadata": {
        "id": "CDsijxBPY2NK",
        "colab_type": "code",
        "colab": {
          "base_uri": "https://localhost:8080/",
          "height": 34
        },
        "outputId": "5cfc1fc0-19f1-44d3-a2ee-480697cde28d"
      },
      "source": [
        "X[0].shape"
      ],
      "execution_count": null,
      "outputs": [
        {
          "output_type": "execute_result",
          "data": {
            "text/plain": [
              "(28, 28, 3)"
            ]
          },
          "metadata": {
            "tags": []
          },
          "execution_count": 7
        }
      ]
    },
    {
      "cell_type": "markdown",
      "metadata": {
        "id": "jHd8s9WJu7mu",
        "colab_type": "text"
      },
      "source": [
        "## Batch of Triplets"
      ]
    },
    {
      "cell_type": "code",
      "metadata": {
        "id": "zAsf4ms0Wf16",
        "colab_type": "code",
        "colab": {}
      },
      "source": [
        "def create_batch(batch_size):\n",
        "    anchors = np.zeros((batch_size,28,28,3))\n",
        "    positives = np.zeros((batch_size,28,28,3))\n",
        "    negatives = np.zeros((batch_size,28,28,3))\n",
        "    \n",
        "    for i in range(0,batch_size):\n",
        "        index = random.randint(0,df.shape[0]-1)\n",
        "        anc = X[index]\n",
        "        name = df.Name[index]\n",
        "        \n",
        "        indices_for_pos = df.index[df['Name']==name].tolist()\n",
        "        indices_for_pos = np.array(indices_for_pos)\n",
        "        indices_for_pos = np.delete(indices_for_pos,np.where(indices_for_pos==index))\n",
        "\n",
        "        indices_for_neg = df.index[df['Name']!=name].tolist()\n",
        "        indices_for_neg = np.array(indices_for_neg)   \n",
        "        \n",
        "        pos = X[indices_for_pos[random.randint(0,len(indices_for_pos)-1)]]\n",
        "        neg = X[indices_for_neg[random.randint(0,len(indices_for_neg)-1)]]\n",
        "        \n",
        "        anchors[i] = anc\n",
        "        positives[i] = pos\n",
        "        negatives[i] = neg\n",
        "        \n",
        "    return [anchors,positives,negatives]"
      ],
      "execution_count": null,
      "outputs": []
    },
    {
      "cell_type": "markdown",
      "metadata": {
        "id": "_Ke7Fv0bLJhZ",
        "colab_type": "text"
      },
      "source": [
        "## Embedding Model"
      ]
    },
    {
      "cell_type": "code",
      "metadata": {
        "id": "EdPiK5knLJhZ",
        "colab_type": "code",
        "colab": {}
      },
      "source": [
        "emb_dim=64\n",
        "model = Sequential()\n",
        "model.add(Conv2D(filters=32, kernel_size=(3,3),activation='relu', input_shape=(28,28,3) ))\n",
        "model.add(Conv2D(32,(3,3),activation='relu'))\n",
        "model.add(MaxPool2D(2,2))\n",
        "model.add(Flatten())\n",
        "model.add(Dense(64,activation='relu'))\n",
        "model.add(Dense(emb_dim,activation=None))"
      ],
      "execution_count": null,
      "outputs": []
    },
    {
      "cell_type": "code",
      "metadata": {
        "id": "mtQnJx5yCzxs",
        "colab_type": "code",
        "colab": {}
      },
      "source": [
        "model.compile()"
      ],
      "execution_count": null,
      "outputs": []
    },
    {
      "cell_type": "markdown",
      "metadata": {
        "id": "WxR0SfINLJhc",
        "colab_type": "text"
      },
      "source": [
        "## Siamese Model"
      ]
    },
    {
      "cell_type": "code",
      "metadata": {
        "scrolled": false,
        "id": "iWxRCGE_LJhc",
        "colab_type": "code",
        "colab": {
          "base_uri": "https://localhost:8080/",
          "height": 386
        },
        "outputId": "bd904274-a6c8-483e-d50a-6c1e0c9ec7e7"
      },
      "source": [
        "in_anc = Input(shape=(28,28,3))\n",
        "in_pos = Input(shape=(28,28,3))\n",
        "in_neg = Input(shape=(28,28,3))\n",
        "\n",
        "emb_anc = model(in_anc)\n",
        "emb_pos = model(in_pos)\n",
        "emb_neg = model(in_neg)\n",
        "\n",
        "out = concatenate([emb_anc,emb_pos,emb_neg], axis=1)\n",
        "\n",
        "net = Model(\n",
        "    [in_anc,in_pos,in_neg],\n",
        "    out\n",
        ")\n",
        "\n",
        "net.summary()"
      ],
      "execution_count": null,
      "outputs": [
        {
          "output_type": "stream",
          "text": [
            "Model: \"functional_1\"\n",
            "__________________________________________________________________________________________________\n",
            "Layer (type)                    Output Shape         Param #     Connected to                     \n",
            "==================================================================================================\n",
            "input_1 (InputLayer)            [(None, 28, 28, 3)]  0                                            \n",
            "__________________________________________________________________________________________________\n",
            "input_2 (InputLayer)            [(None, 28, 28, 3)]  0                                            \n",
            "__________________________________________________________________________________________________\n",
            "input_3 (InputLayer)            [(None, 28, 28, 3)]  0                                            \n",
            "__________________________________________________________________________________________________\n",
            "sequential (Sequential)         (None, 64)           309280      input_1[0][0]                    \n",
            "                                                                 input_2[0][0]                    \n",
            "                                                                 input_3[0][0]                    \n",
            "__________________________________________________________________________________________________\n",
            "concatenate (Concatenate)       (None, 192)          0           sequential[0][0]                 \n",
            "                                                                 sequential[1][0]                 \n",
            "                                                                 sequential[2][0]                 \n",
            "==================================================================================================\n",
            "Total params: 309,280\n",
            "Trainable params: 309,280\n",
            "Non-trainable params: 0\n",
            "__________________________________________________________________________________________________\n"
          ],
          "name": "stdout"
        }
      ]
    },
    {
      "cell_type": "markdown",
      "metadata": {
        "id": "IDcz8KIFLJhg",
        "colab_type": "text"
      },
      "source": [
        "## Triplet Loss"
      ]
    },
    {
      "cell_type": "code",
      "metadata": {
        "id": "W6ORRW5rxuZA",
        "colab_type": "code",
        "colab": {}
      },
      "source": [
        "cosine_loss = CosineSimilarity()"
      ],
      "execution_count": null,
      "outputs": []
    },
    {
      "cell_type": "code",
      "metadata": {
        "id": "FwqmyrBuLJhg",
        "colab_type": "code",
        "colab": {}
      },
      "source": [
        "def triplet_loss(alpha, emb_dim):#take alpha 0.06(cos(20))\n",
        "    def loss(y_true, y_pred):\n",
        "        anc, pos, neg = y_pred[:,:emb_dim], y_pred[:,emb_dim:2*emb_dim], y_pred[:, 2*emb_dim:]\n",
        "        dp = 1 - abs(cosine_loss(anc,pos))\n",
        "        dn = 1 - abs(cosine_loss(anc,neg))\n",
        "        return tf.maximum((dp - dn + alpha),0.)\n",
        "    return loss"
      ],
      "execution_count": null,
      "outputs": []
    },
    {
      "cell_type": "markdown",
      "metadata": {
        "id": "gEZAj3YLwE_X",
        "colab_type": "text"
      },
      "source": [
        "## Model Generator"
      ]
    },
    {
      "cell_type": "code",
      "metadata": {
        "id": "C9-9P8Tkv69s",
        "colab_type": "code",
        "colab": {}
      },
      "source": [
        "def data_generator(batch_size, emb_dim):\n",
        "    while True:\n",
        "        x = create_batch(batch_size)\n",
        "        y = np.zeros((batch_size,3*emb_dim))\n",
        "        yield x, y"
      ],
      "execution_count": null,
      "outputs": []
    },
    {
      "cell_type": "markdown",
      "metadata": {
        "id": "1tbu7vD8wMV_",
        "colab_type": "text"
      },
      "source": [
        "## Model Training"
      ]
    },
    {
      "cell_type": "code",
      "metadata": {
        "id": "Ok3r2V5-wJEM",
        "colab_type": "code",
        "colab": {}
      },
      "source": [
        "batch_size = 12\n",
        "epochs = 10\n",
        "steps_per_epoch = int(463/batch_size)\n",
        "\n",
        "net.compile(loss = triplet_loss(alpha=0.06, emb_dim=emb_dim), optimizer=tf.keras.optimizers.Adam(lr=0.001))"
      ],
      "execution_count": null,
      "outputs": []
    },
    {
      "cell_type": "code",
      "metadata": {
        "id": "i3jkjQDgw7qv",
        "colab_type": "code",
        "colab": {}
      },
      "source": [
        "history = net.fit(\n",
        "    data_generator(batch_size,emb_dim),\n",
        "    epochs=epochs, steps_per_epoch=steps_per_epoch,\n",
        "    verbose=False,\n",
        ")"
      ],
      "execution_count": null,
      "outputs": []
    },
    {
      "cell_type": "code",
      "metadata": {
        "id": "wK3K0Q9Hw7oB",
        "colab_type": "code",
        "colab": {}
      },
      "source": [
        "def plotLearningCurve(history,epochs):\n",
        "  epochRange = range(1,epochs+1)\n",
        "  plt.plot(epochRange,history.history['loss'])\n",
        "  plt.title('Model Loss')\n",
        "  plt.xlabel('Epoch')\n",
        "  plt.ylabel('Loss')\n",
        "  plt.legend(['Train','Validation'],loc='upper right')\n",
        "  plt.show()"
      ],
      "execution_count": null,
      "outputs": []
    },
    {
      "cell_type": "code",
      "metadata": {
        "id": "UXd9Dvwkzi3Z",
        "colab_type": "code",
        "colab": {
          "base_uri": "https://localhost:8080/",
          "height": 295
        },
        "outputId": "f2af7c43-f82d-4e68-9c32-677dc7a773c9"
      },
      "source": [
        "plotLearningCurve(history,epochs)"
      ],
      "execution_count": null,
      "outputs": [
        {
          "output_type": "display_data",
          "data": {
            "image/png": "[encoded data removed]",
            "text/plain": [
              "<Figure size 432x288 with 1 Axes>"
            ]
          },
          "metadata": {
            "tags": [],
            "needs_background": "light"
          }
        }
      ]
    },
    {
      "cell_type": "markdown",
      "metadata": {
        "id": "hSsFmyCBCZlh",
        "colab_type": "text"
      },
      "source": [
        "## Testing"
      ]
    },
    {
      "cell_type": "code",
      "metadata": {
        "id": "n2likh_RCxB4",
        "colab_type": "code",
        "colab": {}
      },
      "source": [
        "df = pd.read_csv('/content/testing - Sheet1.csv')"
      ],
      "execution_count": null,
      "outputs": []
    },
    {
      "cell_type": "code",
      "metadata": {
        "id": "v-FyGrrbzodW",
        "colab_type": "code",
        "colab": {
          "base_uri": "https://localhost:8080/",
          "height": 34
        },
        "outputId": "8be57c08-cbca-4d60-da03-7f4e3c393a5e"
      },
      "source": [
        "width = 28\n",
        "height = 28\n",
        "X = []\n",
        "for i in tqdm(range(df.shape[0])):\n",
        "  path = '/content/drive/My Drive/testingT/'+df['ID'][i]+'.jpg'\n",
        "  img = image.load_img(path,target_size=(width,height,3))\n",
        "  img = image.img_to_array(img)\n",
        "  img = img/255.0\n",
        "  X.append(img)\n",
        "\n",
        "X = np.array(X)"
      ],
      "execution_count": null,
      "outputs": [
        {
          "output_type": "stream",
          "text": [
            "100%|██████████| 30/30 [00:16<00:00,  1.85it/s]\n"
          ],
          "name": "stderr"
        }
      ]
    },
    {
      "cell_type": "code",
      "metadata": {
        "id": "vSVWvvPsBKpV",
        "colab_type": "code",
        "colab": {}
      },
      "source": [
        "[anchors,positives,negatives]=create_batch(10)"
      ],
      "execution_count": null,
      "outputs": []
    },
    {
      "cell_type": "code",
      "metadata": {
        "id": "mrBB1unMB5t2",
        "colab_type": "code",
        "colab": {}
      },
      "source": [
        "def test(batch_size):\n",
        "  for i in range(batch_size):\n",
        "    a1 = model(tf.expand_dims(anchors[i],0))\n",
        "    a2 = model(tf.expand_dims(positives[i],0))\n",
        "    a3 = model(tf.expand_dims(negatives[i],0))\n",
        "    print(abs(cosine_loss(a1,a2)))\n",
        "    print(abs(cosine_loss(a1,a3)))\n",
        "    print(abs(cosine_loss(a2,a3)))\n",
        "    print(\"\\n\\n\")\n"
      ],
      "execution_count": null,
      "outputs": []
    },
    {
      "cell_type": "code",
      "metadata": {
        "id": "l37m9Fk6B5R2",
        "colab_type": "code",
        "colab": {
          "base_uri": "https://localhost:8080/",
          "height": 1000
        },
        "outputId": "eec09269-273e-45a4-c575-e25b97830f6b"
      },
      "source": [
        "test(10)"
      ],
      "execution_count": null,
      "outputs": [
        {
          "output_type": "stream",
          "text": [
            "tf.Tensor(0.9903515, shape=(), dtype=float32)\n",
            "tf.Tensor(0.62405777, shape=(), dtype=float32)\n",
            "tf.Tensor(0.5626136, shape=(), dtype=float32)\n",
            "\n",
            "\n",
            "\n",
            "tf.Tensor(0.8039705, shape=(), dtype=float32)\n",
            "tf.Tensor(0.7024436, shape=(), dtype=float32)\n",
            "tf.Tensor(0.88892555, shape=(), dtype=float32)\n",
            "\n",
            "\n",
            "\n",
            "tf.Tensor(0.99999994, shape=(), dtype=float32)\n",
            "tf.Tensor(0.5737278, shape=(), dtype=float32)\n",
            "tf.Tensor(0.5737278, shape=(), dtype=float32)\n",
            "\n",
            "\n",
            "\n",
            "tf.Tensor(0.9495739, shape=(), dtype=float32)\n",
            "tf.Tensor(0.7740949, shape=(), dtype=float32)\n",
            "tf.Tensor(0.6610004, shape=(), dtype=float32)\n",
            "\n",
            "\n",
            "\n",
            "tf.Tensor(0.9903515, shape=(), dtype=float32)\n",
            "tf.Tensor(0.44917455, shape=(), dtype=float32)\n",
            "tf.Tensor(0.34899315, shape=(), dtype=float32)\n",
            "\n",
            "\n",
            "\n",
            "tf.Tensor(0.97129154, shape=(), dtype=float32)\n",
            "tf.Tensor(0.81750137, shape=(), dtype=float32)\n",
            "tf.Tensor(0.8231797, shape=(), dtype=float32)\n",
            "\n",
            "\n",
            "\n",
            "tf.Tensor(0.9826852, shape=(), dtype=float32)\n",
            "tf.Tensor(0.32789442, shape=(), dtype=float32)\n",
            "tf.Tensor(0.40448374, shape=(), dtype=float32)\n",
            "\n",
            "\n",
            "\n",
            "tf.Tensor(0.91520697, shape=(), dtype=float32)\n",
            "tf.Tensor(0.88029903, shape=(), dtype=float32)\n",
            "tf.Tensor(0.97709733, shape=(), dtype=float32)\n",
            "\n",
            "\n",
            "\n",
            "tf.Tensor(0.98771816, shape=(), dtype=float32)\n",
            "tf.Tensor(0.71371347, shape=(), dtype=float32)\n",
            "tf.Tensor(0.64015794, shape=(), dtype=float32)\n",
            "\n",
            "\n",
            "\n",
            "tf.Tensor(0.9672035, shape=(), dtype=float32)\n",
            "tf.Tensor(0.83294016, shape=(), dtype=float32)\n",
            "tf.Tensor(0.8267642, shape=(), dtype=float32)\n",
            "\n",
            "\n",
            "\n"
          ],
          "name": "stdout"
        }
      ]
    }
  ]
}